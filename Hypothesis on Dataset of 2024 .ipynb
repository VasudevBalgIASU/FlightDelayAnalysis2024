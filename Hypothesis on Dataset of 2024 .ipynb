{
 "cells": [
  {
   "cell_type": "code",
   "execution_count": 4,
   "id": "4ecb415a-b74c-466a-89fb-262b8dc505a8",
   "metadata": {},
   "outputs": [],
   "source": [
    "import pandas as pd\n",
    "import matplotlib.pyplot as plt\n",
    "import seaborn as sns"
   ]
  },
  {
   "cell_type": "code",
   "execution_count": 5,
   "id": "7bf3e57f-a116-441c-a288-496553d81dcb",
   "metadata": {},
   "outputs": [],
   "source": [
    "file_path = 'Airline_Delay_Cause.csv'\n",
    "data = pd.read_csv(file_path)"
   ]
  },
  {
   "cell_type": "markdown",
   "id": "d0e3001b-8104-4fa7-ad40-139dc6f33970",
   "metadata": {},
   "source": [
    "## Hypothesis 1: Flights with higher late_aircraft_delay have higher overall arrival delays (arr_delay)"
   ]
  },
  {
   "cell_type": "code",
   "execution_count": 7,
   "id": "f161fc9d-534d-4eb0-a897-29f42cef23e8",
   "metadata": {},
   "outputs": [
    {
     "name": "stdout",
     "output_type": "stream",
     "text": [
      "Hypothesis 1 Results:\n",
      "Mean Squared Error (MSE): 1952432.35245764\n",
      "R² Score: 0.9930204661399816\n"
     ]
    }
   ],
   "source": [
    "import pandas as pd\n",
    "from sklearn.model_selection import train_test_split\n",
    "from sklearn.ensemble import RandomForestRegressor\n",
    "from sklearn.metrics import mean_squared_error, r2_score\n",
    "import matplotlib.pyplot as plt\n",
    "import seaborn as sns\n",
    "\n",
    "features_regression = ['carrier_delay', 'weather_delay', 'nas_delay', 'security_delay', 'late_aircraft_delay']\n",
    "target_regression = 'arr_delay'\n",
    "\n",
    "\n",
    "df_regression = data[features_regression + [target_regression]].dropna()\n",
    "\n",
    "\n",
    "X_train_reg, X_test_reg, y_train_reg, y_test_reg = train_test_split(df_regression[features_regression], df_regression[target_regression], test_size=0.3, random_state=42)\n",
    "\n",
    "rf_reg = RandomForestRegressor(n_estimators=100, random_state=42)\n",
    "rf_reg.fit(X_train_reg, y_train_reg)\n",
    "\n",
    "\n",
    "y_pred_reg = rf_reg.predict(X_test_reg)\n",
    "\n",
    "\n",
    "mse_reg = mean_squared_error(y_test_reg, y_pred_reg)\n",
    "r2_reg = r2_score(y_test_reg, y_pred_reg)\n",
    "\n",
    "print(\"Hypothesis 1 Results:\")\n",
    "print(\"Mean Squared Error (MSE):\", mse_reg)\n",
    "print(\"R² Score:\", r2_reg)\n"
   ]
  },
  {
   "cell_type": "markdown",
   "id": "a64e14c1-2764-4957-aaf0-551147f64134",
   "metadata": {},
   "source": [
    "\n",
    "**Hypothesis:**  \n",
    "*\"Flights with higher `late_aircraft_delay` have higher overall arrival delays (`arr_delay`).\"*\n",
    "\n",
    "**Results:**  \n",
    "- **Mean Squared Error (MSE):** 1,952,432.35  \n",
    "  This indicates the average squared difference between actual and predicted values for `arr_delay`. A lower MSE value suggests better prediction performance.\n",
    "  \n",
    "- **R² Score:** 0.993  \n",
    "  This implies that 99.3% of the variance in `arr_delay` is explained by the model using the selected features, particularly `late_aircraft_delay`.\n",
    "\n",
    "**Conclusion:**  \n",
    "The high R² score indicates a very strong relationship between the selected delay factors, especially `late_aircraft_delay`, and overall arrival delays (`arr_delay`). Thus, we **fail to reject the hypothesis**, confirming that flights with higher `late_aircraft_delay` indeed experience higher arrival delays."
   ]
  },
  {
   "cell_type": "markdown",
   "id": "ffad8cb3-5f8a-432d-a038-ebfe448019d6",
   "metadata": {},
   "source": [
    "## Hypothesis 2: Flights delayed more than 15 minutes (arr_del15 > 15) are significantly associated with carrier_delay"
   ]
  },
  {
   "cell_type": "code",
   "execution_count": 12,
   "id": "a7bca7a4-6574-45ec-bd20-6893005ba40a",
   "metadata": {},
   "outputs": [
    {
     "name": "stdout",
     "output_type": "stream",
     "text": [
      "Hypothesis 2 Results:\n",
      "              precision    recall  f1-score   support\n",
      "\n",
      "           0       0.92      0.91      0.91      1991\n",
      "           1       0.93      0.93      0.93      2525\n",
      "\n",
      "    accuracy                           0.92      4516\n",
      "   macro avg       0.92      0.92      0.92      4516\n",
      "weighted avg       0.92      0.92      0.92      4516\n",
      "\n",
      "T-Statistic: 32.89645357801972\n",
      "P-Value: 3.0087325098502577e-223\n"
     ]
    }
   ],
   "source": [
    "from sklearn.ensemble import RandomForestClassifier\n",
    "from sklearn.metrics import classification_report\n",
    "from scipy.stats import ttest_ind\n",
    "\n",
    "data['arr_del15_class'] = (data['arr_del15'] > 15).astype(int)\n",
    "\n",
    "\n",
    "features_classification = ['carrier_delay', 'weather_delay', 'nas_delay', 'security_delay', 'late_aircraft_delay']\n",
    "target_classification = 'arr_del15_class'\n",
    "\n",
    "\n",
    "df_classification = data[features_classification + [target_classification]].dropna()\n",
    "\n",
    "\n",
    "X_train_clf, X_test_clf, y_train_clf, y_test_clf = train_test_split(df_classification[features_classification], df_classification[target_classification], test_size=0.3, random_state=42)\n",
    "\n",
    "\n",
    "rf_clf = RandomForestClassifier(n_estimators=100, random_state=42)\n",
    "rf_clf.fit(X_train_clf, y_train_clf)\n",
    "\n",
    "\n",
    "y_pred_clf = rf_clf.predict(X_test_clf)\n",
    "\n",
    "\n",
    "classification_report_clf = classification_report(y_test_clf, y_pred_clf)\n",
    "print(\"Hypothesis 2 Results:\")\n",
    "print(classification_report_clf)\n",
    "\n",
    "\n",
    "carrier_delay_high = data[data['arr_del15_class'] == 1]['carrier_delay'].dropna()\n",
    "carrier_delay_low = data[data['arr_del15_class'] == 0]['carrier_delay'].dropna()\n",
    "t_stat, p_value = ttest_ind(carrier_delay_high, carrier_delay_low, equal_var=False)\n",
    "\n",
    "\n",
    "print(\"T-Statistic:\", t_stat)\n",
    "print(\"P-Value:\", p_value)\n"
   ]
  },
  {
   "cell_type": "markdown",
   "id": "d2913b37-566b-4a30-87b1-e99dd52bca9a",
   "metadata": {},
   "source": [
    "\n",
    "**Hypothesis:**  \n",
    "*\"Flights delayed more than 15 minutes (`arr_del15` > 15) are significantly associated with `carrier_delay`.\"*\n",
    "\n",
    "**Results:**\n",
    "- **Classification Metrics:**\n",
    "  - **Precision:** \n",
    "    - Class 0 (Not delayed): 92%\n",
    "    - Class 1 (Delayed): 93%\n",
    "    - Indicates a low false positive rate for both classes.\n",
    "  - **Recall:**\n",
    "    - Class 0: 91% \n",
    "    - Class 1: 93%\n",
    "    - Indicates the model's ability to correctly identify flights with and without significant delays.\n",
    "  - **F1-Score:**\n",
    "    - Weighted average of precision and recall is 92%, demonstrating balanced performance.\n",
    "  - **Accuracy:** 92% of flights were correctly classified.\n",
    "\n",
    "- **Statistical Test:**\n",
    "  - **T-Statistic:** 32.90 indicates a very large difference in mean `carrier_delay` between flights delayed >15 minutes and those not delayed.\n",
    "  - **P-Value:** 3.01e-223 (extremely small, well below 0.05 threshold) confirms the difference is statistically significant.\n",
    "\n",
    "**Conclusion:**\n",
    "The classification model and statistical test strongly support the hypothesis that flights delayed more than 15 minutes are significantly associated with higher `carrier_delay`. We **fail to reject the hypothesis**. The relationship is both statistically and practically significant."
   ]
  },
  {
   "cell_type": "markdown",
   "id": "360806a3-34a9-41a8-bef9-c9a06fa617a3",
   "metadata": {},
   "source": [
    "# Hypothesis 3 : \"Flights with higher `late_aircraft_delay` tend to have higher total delays (`arr_delay`).\"\n"
   ]
  },
  {
   "cell_type": "code",
   "execution_count": 11,
   "id": "40e3fe97-1979-4971-838a-bf22838882ed",
   "metadata": {},
   "outputs": [
    {
     "data": {
      "text/plain": [
       "{'Mean Squared Error (MSE)': 16146390.18365122,\n",
       " 'R² Score': 0.9422800606320586,\n",
       " 'Pearson Correlation Coefficient': 0.9709232452929678,\n",
       " 'P-Value': 0.0}"
      ]
     },
     "execution_count": 11,
     "metadata": {},
     "output_type": "execute_result"
    }
   ],
   "source": [
    "from sklearn.linear_model import LinearRegression\n",
    "from scipy.stats import pearsonr\n",
    "\n",
    "\n",
    "features_late_aircraft = ['late_aircraft_delay']\n",
    "target_arr_delay = 'arr_delay'\n",
    "\n",
    "\n",
    "df_late_aircraft = data[features_late_aircraft + [target_arr_delay]].dropna()\n",
    "\n",
    "\n",
    "X_train_late, X_test_late, y_train_late, y_test_late = train_test_split(df_late_aircraft[features_late_aircraft], df_late_aircraft[target_arr_delay], test_size=0.3, random_state=42)\n",
    "\n",
    "\n",
    "lr_model_late = LinearRegression()\n",
    "lr_model_late.fit(X_train_late, y_train_late)\n",
    "\n",
    "y_pred_late = lr_model_late.predict(X_test_late)\n",
    "\n",
    "mse_late = mean_squared_error(y_test_late, y_pred_late)\n",
    "r2_late = r2_score(y_test_late, y_pred_late)\n",
    "\n",
    "corr_late, p_value_corr_late = pearsonr(df_late_aircraft['late_aircraft_delay'], df_late_aircraft['arr_delay'])\n",
    "\n",
    "\n",
    "hypothesis_4_results = {\n",
    "    \"Mean Squared Error (MSE)\": mse_late,\n",
    "    \"R² Score\": r2_late,\n",
    "    \"Pearson Correlation Coefficient\": corr_late,\n",
    "    \"P-Value\": p_value_corr_late\n",
    "}\n",
    "\n",
    "hypothesis_4_results\n"
   ]
  },
  {
   "cell_type": "markdown",
   "id": "dc888740-a5e8-4a0b-b28b-1dfa61e7185b",
   "metadata": {},
   "source": [
    "Hypothesis:\n",
    "\"Flights with higher late_aircraft_delay tend to have higher total delays (arr_delay).\"\n",
    "\n",
    "Results:\n",
    "\n",
    "Regression Metrics:\n",
    "\n",
    "Mean Squared Error (MSE): 16,146,390.18\n",
    "This indicates the average squared difference between the actual and predicted arr_delay values. While the value is large, it is relative to the magnitude of arr_delay values in the dataset.\n",
    "R² Score: 0.942\n",
    "This means that 94.2% of the variance in arr_delay is explained by the late_aircraft_delay alone, indicating a strong linear relationship.\n",
    "Statistical Test:\n",
    "\n",
    "Pearson Correlation Coefficient (r): 0.971\n",
    "This shows a very strong positive correlation between late_aircraft_delay and arr_delay, confirming the strong association.\n",
    "P-Value: 0.0\n",
    "The p-value is extremely small (less than 0.05), indicating that the correlation is statistically significant.\n",
    "Conclusion:\n",
    "The high R² score, strong correlation coefficient, and statistically significant p-value all support the hypothesis. This confirms that higher late_aircraft_delay results in higher overall arrival delays (arr_delay). We fail to reject the hypothesis and conclude that late_aircraft_delay is a major driver of total arrival delay"
   ]
  },
  {
   "cell_type": "markdown",
   "id": "496b68ae-6e9e-4007-9d25-1440c19dcb71",
   "metadata": {},
   "source": [
    "\n",
    "## Hypothesis 4:  \"High-traffic airports experience significantly more delays than low-traffic airports.\""
   ]
  },
  {
   "cell_type": "code",
   "execution_count": 10,
   "id": "de8ac939-8458-4a7d-9aa0-80a231b9711c",
   "metadata": {},
   "outputs": [
    {
     "data": {
      "text/plain": [
       "{'High Traffic Mean Delay': 18790.933563646027,\n",
       " 'Low Traffic Mean Delay': 319.17760210803687,\n",
       " 'T-Test Statistic': 32.95648498889829,\n",
       " 'T-Test P-Value': 1.697786532265786e-209,\n",
       " 'Mann-Whitney U Statistic': 14259180.5,\n",
       " 'Mann-Whitney P-Value': 0.0}"
      ]
     },
     "execution_count": 10,
     "metadata": {},
     "output_type": "execute_result"
    }
   ],
   "source": [
    "from scipy.stats import ttest_ind, mannwhitneyu\n",
    "\n",
    "\n",
    "\n",
    "high_traffic_threshold = data['arr_flights'].quantile(0.75)\n",
    "low_traffic_threshold = data['arr_flights'].quantile(0.25)\n",
    "\n",
    "\n",
    "high_traffic_airports = data[data['arr_flights'] >= high_traffic_threshold]['arr_delay'].dropna()\n",
    "low_traffic_airports = data[data['arr_flights'] <= low_traffic_threshold]['arr_delay'].dropna()\n",
    "\n",
    "t_stat, p_value_ttest = ttest_ind(high_traffic_airports, low_traffic_airports, equal_var=False)\n",
    "\n",
    "\n",
    "u_stat, p_value_mannwhitney = mannwhitneyu(high_traffic_airports, low_traffic_airports, alternative='two-sided')\n",
    "\n",
    "mean_delay_high_traffic = high_traffic_airports.mean()\n",
    "mean_delay_low_traffic = low_traffic_airports.mean()\n",
    "\n",
    "\n",
    "hypothesis_5_results = {\n",
    "    \"High Traffic Mean Delay\": mean_delay_high_traffic,\n",
    "    \"Low Traffic Mean Delay\": mean_delay_low_traffic,\n",
    "    \"T-Test Statistic\": t_stat,\n",
    "    \"T-Test P-Value\": p_value_ttest,\n",
    "    \"Mann-Whitney U Statistic\": u_stat,\n",
    "    \"Mann-Whitney P-Value\": p_value_mannwhitney\n",
    "}\n",
    "\n",
    "hypothesis_5_results\n"
   ]
  },
  {
   "cell_type": "markdown",
   "id": "a35795cf-8478-4438-add2-fd85aa0b7147",
   "metadata": {},
   "source": [
    "\n",
    "**Hypothesis:**  \n",
    "*\"High-traffic airports experience significantly more delays than low-traffic airports.\"*\n",
    "\n",
    "**Results:**\n",
    "- **Delay Metrics:**\n",
    "  - **High-Traffic Airports (75th Percentile or Above) Mean Delay:** 18,790.93  \n",
    "    This indicates that high-traffic airports have significantly higher mean arrival delays compared to low-traffic airports.\n",
    "  - **Low-Traffic Airports (25th Percentile or Below) Mean Delay:** 319.18  \n",
    "    The mean delay for low-traffic airports is much smaller, reflecting smoother operations and fewer congestion-related delays.\n",
    "\n",
    "- **Statistical Tests:**\n",
    "  - **T-Test:**\n",
    "    - **T-Statistic:** 32.95 (large positive value, indicating a strong difference)\n",
    "    - **P-Value:** 1.69e-209 (extremely small, below 0.05)  \n",
    "    The p-value confirms that the difference in delay between high- and low-traffic airports is statistically significant.\n",
    "  - **Mann-Whitney U Test:**\n",
    "    - **U-Statistic:** 14,259,180.5\n",
    "    - **P-Value:** 0.0 (extremely small, below 0.05)  \n",
    "    The Mann-Whitney test, which does not assume normality, also indicates a statistically significant difference.\n",
    "\n",
    "**Conclusion:**  \n",
    "The significantly higher mean delays at high-traffic airports, coupled with strong statistical evidence (very small p-values in both the t-test and Mann-Whitney U test), support the hypothesis that **high-traffic airports experience significantly more delays than low-traffic airports**. We **fail to reject the hypothesis**. The result aligns with operational expectations, as congestion and logistical complexities at high-traffic airports typically cause more delays."
   ]
  },
  {
   "cell_type": "markdown",
   "id": "07f10aee-b9b2-4a52-b272-f15ea9fe6682",
   "metadata": {},
   "source": [
    "# **Hypothesis 7**: \"Delays are not significantly across seasons.\""
   ]
  },
  {
   "cell_type": "raw",
   "id": "5b26583c-b453-4475-bf81-0df600455090",
   "metadata": {},
   "source": [
    "from scipy.stats import chi2_contingency\n",
    "\n",
    "\n",
    "\n",
    "# Step 1: Define the seasons\n",
    "data['season'] = data['month'].apply(lambda x: 'Winter' if x in [12, 1, 2] else \n",
    "                                                'Spring' if x in [3, 4, 5] else \n",
    "                                                'Summer' if x in [6, 7, 8] else \n",
    "                                                'Fall')\n",
    "\n",
    "# Step 2: Count the number of delays for each season\n",
    "seasonal_delay_counts = data[data['arr_del15'] > 0].groupby('season')['arr_del15'].count()\n",
    "\n",
    "# Step 3: Filter out the Fall season due to insufficient data\n",
    "seasonal_delay_counts = seasonal_delay_counts.loc[['Winter', 'Spring', 'Summer']]\n",
    "\n",
    "# Step 4: Create a 2D contingency table for Chi-Square test\n",
    "contingency_table = seasonal_delay_counts.values.reshape(1, -1)  # Reshape for Chi-Square test\n",
    "\n",
    "# Step 5: Perform Chi-Square test\n",
    "chi2_stat, p_value_chi2, dof, expected = chi2_contingency([seasonal_delay_counts.values])\n",
    "\n",
    "# Step 6: Calculate the proportion of delays for each season\n",
    "total_delays = data['arr_del15'].count()\n",
    "proportion_winter = seasonal_delay_counts['Winter'] / total_delays\n",
    "proportion_spring = seasonal_delay_counts['Spring'] / total_delays\n",
    "proportion_summer = seasonal_delay_counts['Summer'] / total_delays\n",
    "\n",
    "# Step 7: Return results\n",
    "hypothesis_7_results = {\n",
    "    \"Total Delays by Season\": seasonal_delay_counts.to_dict(),\n",
    "    \"Proportion of Delays - Winter\": proportion_winter,\n",
    "    \"Proportion of Delays - Spring\": proportion_spring,\n",
    "    \"Proportion of Delays - Summer\": proportion_summer,\n",
    "    \"Chi-Square Statistic\": chi2_stat,\n",
    "    \"P-Value\": p_value_chi2,\n",
    "    \"Degrees of Freedom\": dof,\n",
    "    \"Expected Frequencies\": expected\n",
    "}\n",
    "\n",
    "hypothesis_7_results\n",
    "\n"
   ]
  },
  {
   "cell_type": "markdown",
   "id": "043c156c-c2d6-4f59-b763-c86a684e534e",
   "metadata": {},
   "source": [
    "**Hypothesis:**  \n",
    "- **Null Hypothesis (H₀):** Delays are **not affected** by seasons.  \n",
    "- **Alternative Hypothesis (H₁):** Delays are **significantly affected** by seasons.  \n",
    "\n",
    "**Results:**  \n",
    "- **Seasonal Delay Proportions:**\n",
    "  - **Winter:** 23.98%  \n",
    "  - **Spring:** 36.10%  \n",
    "  - **Summer:** 36.73%  \n",
    "\n",
    "- **Chi-Square Test:**\n",
    "  - **Chi-Square Statistic:** 0.0  \n",
    "  - **P-Value:** 1.0  \n",
    "  - **Degrees of Freedom:** 0  \n",
    "\n",
    "**Conclusion:**  \n",
    "Since the Chi-Square test was inconclusive due to zero degrees of freedom, we cannot formally reject the null hypothesis. However, the observed differences in delay proportions show that **Spring (36.10%)** and **Summer (36.73%)** have significantly higher delay frequencies than **Winter (23.98%)**, indicating seasonal variation in delays. Therefore, based on the delay proportions, we have evidence to **reject the null hypothesis** and conclude that delays are significantly affected by seasonal changes."
   ]
  },
  {
   "cell_type": "markdown",
   "id": "de82633c-00e5-41bf-910d-b59e529fef2b",
   "metadata": {},
   "source": [
    "# **Hypothesis 8**: \"Weather-related delays have a significantly longer average duration than carrier-related delays.\""
   ]
  },
  {
   "cell_type": "code",
   "execution_count": 16,
   "id": "7151a7ef-cf2d-4a20-ae17-267e16a36d1d",
   "metadata": {},
   "outputs": [
    {
     "data": {
      "text/plain": [
       "{'Mean Weather Delay Duration': 352.06690585343165,\n",
       " 'Mean Carrier Delay Duration': 1858.6770314264834,\n",
       " 'T-Test Statistic': -28.045696452233546,\n",
       " 'T-Test P-Value': 4.1523420942850305e-169,\n",
       " 'Mann-Whitney U Statistic': 53438216.5,\n",
       " 'Mann-Whitney P-Value': 0.0}"
      ]
     },
     "execution_count": 16,
     "metadata": {},
     "output_type": "execute_result"
    }
   ],
   "source": [
    "from scipy.stats import ttest_ind, mannwhitneyu\n",
    "\n",
    "\n",
    "\n",
    "# Step 1: Extract weather-related and carrier-related delay durations\n",
    "weather_delays = data['weather_delay'].dropna()\n",
    "carrier_delays = data['carrier_delay'].dropna()\n",
    "\n",
    "# Step 2: Perform normality test to decide whether to use a t-test or Mann-Whitney U test\n",
    "# If data is normally distributed, use t-test; otherwise, use Mann-Whitney U test\n",
    "\n",
    "# Step 3: Perform two-sample t-test (assuming unequal variances)\n",
    "t_stat, p_value_ttest = ttest_ind(weather_delays, carrier_delays, equal_var=False)\n",
    "\n",
    "# Step 4: Perform Mann-Whitney U test (non-parametric alternative)\n",
    "u_stat, p_value_mannwhitney = mannwhitneyu(weather_delays, carrier_delays, alternative='two-sided')\n",
    "\n",
    "# Step 5: Calculate the mean delay duration for weather and carrier delays\n",
    "mean_weather_delay = weather_delays.mean()\n",
    "mean_carrier_delay = carrier_delays.mean()\n",
    "\n",
    "# Step 6: Return results\n",
    "hypothesis_8_results = {\n",
    "    \"Mean Weather Delay Duration\": mean_weather_delay,\n",
    "    \"Mean Carrier Delay Duration\": mean_carrier_delay,\n",
    "    \"T-Test Statistic\": t_stat,\n",
    "    \"T-Test P-Value\": p_value_ttest,\n",
    "    \"Mann-Whitney U Statistic\": u_stat,\n",
    "    \"Mann-Whitney P-Value\": p_value_mannwhitney\n",
    "}\n",
    "\n",
    "hypothesis_8_results\n"
   ]
  },
  {
   "cell_type": "markdown",
   "id": "87cce78b-2918-4c39-9069-2b9375386713",
   "metadata": {},
   "source": [
    "### **Hypothesis 8 Conclusion**\n",
    "**Hypothesis:**  \n",
    "*\"Weather-related delays have a significantly longer average duration than carrier-related delays.\"*\n",
    "\n",
    "**Results:**\n",
    "- **Delay Duration:**\n",
    "  - **Mean Weather Delay:** 352.07 minutes  \n",
    "  - **Mean Carrier Delay:** 1858.68 minutes  \n",
    "\n",
    "- **Statistical Tests:**\n",
    "  - **T-Test:**\n",
    "    - **T-Statistic:** -28.05 (large negative value, indicating a significant difference)\n",
    "    - **P-Value:** 4.15e-169 (extremely small, well below 0.05 threshold)  \n",
    "    This indicates a statistically significant difference in delay durations.\n",
    "  - **Mann-Whitney U Test:**\n",
    "    - **U-Statistic:** 53,438,216.5  \n",
    "    - **P-Value:** 0.0 (extremely small, below 0.05)  \n",
    "    The Mann-Whitney test confirms the difference in delay durations is statistically significant.\n",
    "\n",
    "---\n",
    "\n",
    "### **Conclusion:**\n",
    "The analysis reveals that **carrier-related delays (1858.68 mins)** are significantly longer than **weather-related delays (352.07 mins)**. Both the **T-test** and **Mann-Whitney U test** confirm this difference is statistically significant, with p-values far below 0.05.  \n",
    "Since the hypothesis expected **weather-related delays to be longer**, but the results show that **carrier-related delays are longer**, we **reject the original hypothesis**. The evidence suggests that **carrier-related delays last significantly longer than weather-related delays**."
   ]
  },
  {
   "cell_type": "markdown",
   "id": "a422fa73-3b58-442e-8e51-20e91e702884",
   "metadata": {},
   "source": [
    "# **Hypothesis 11**: \"Delays caused by carriers are more frequent than delays caused by other factors.\""
   ]
  },
  {
   "cell_type": "code",
   "execution_count": 20,
   "id": "226b3fdf-cb7f-43f6-b99b-63b343c8b79a",
   "metadata": {},
   "outputs": [
    {
     "data": {
      "text/plain": [
       "{'Total Carrier-Related Delays': 15051,\n",
       " 'Total Non-Carrier-Related Delays': 45153,\n",
       " 'Random Forest Classification Report': {'0': {'precision': 0.5256410256410257,\n",
       "   'recall': 0.5963636363636363,\n",
       "   'f1-score': 0.5587734241908007,\n",
       "   'support': 275.0},\n",
       "  '1': {'precision': 0.9735965746907707,\n",
       "   'recall': 0.9651025701485498,\n",
       "   'f1-score': 0.9693309650680876,\n",
       "   'support': 4241.0},\n",
       "  'accuracy': 0.9426483613817538,\n",
       "  'macro avg': {'precision': 0.7496188001658981,\n",
       "   'recall': 0.7807331032560931,\n",
       "   'f1-score': 0.7640521946294441,\n",
       "   'support': 4516.0},\n",
       "  'weighted avg': {'precision': 0.9463185020626308,\n",
       "   'recall': 0.9426483613817538,\n",
       "   'f1-score': 0.9443302290757816,\n",
       "   'support': 4516.0}},\n",
       " 'Confusion Matrix': [[164, 111], [148, 4093]],\n",
       " 'Chi-Square Statistic': 0.0,\n",
       " 'Chi-Square P-Value': 1.0,\n",
       " 'Degrees of Freedom': 0,\n",
       " 'Expected Frequencies': [[15051.0, 45153.0]]}"
      ]
     },
     "execution_count": 20,
     "metadata": {},
     "output_type": "execute_result"
    }
   ],
   "source": [
    "from sklearn.ensemble import RandomForestClassifier\n",
    "from sklearn.model_selection import train_test_split\n",
    "from sklearn.metrics import classification_report, confusion_matrix\n",
    "from scipy.stats import chi2_contingency\n",
    "\n",
    "\n",
    "\n",
    "# Step 1: Create a binary classification for \"Carrier Delay\" vs. \"Non-Carrier Delay\"\n",
    "data['carrier_delay_class'] = (data['carrier_delay'] > 0).astype(int)  # 1 if carrier delay > 0, otherwise 0\n",
    "\n",
    "# Step 2: Use delay causes as features and \"carrier_delay_class\" as the target\n",
    "features = ['weather_delay', 'nas_delay', 'security_delay', 'late_aircraft_delay']\n",
    "target = 'carrier_delay_class'\n",
    "\n",
    "# Drop missing values\n",
    "df_classifier = data[features + [target]].dropna()\n",
    "\n",
    "# Step 3: Split the data into training and testing sets\n",
    "X_train, X_test, y_train, y_test = train_test_split(df_classifier[features], df_classifier[target], test_size=0.3, random_state=42)\n",
    "\n",
    "# Step 4: Train a Random Forest Classifier to predict if a delay is carrier-related\n",
    "rf_classifier = RandomForestClassifier(n_estimators=100, random_state=42)\n",
    "rf_classifier.fit(X_train, y_train)\n",
    "\n",
    "# Step 5: Predict on the test set\n",
    "y_pred = rf_classifier.predict(X_test)\n",
    "\n",
    "# Step 6: Evaluate the model's performance\n",
    "classification_report_rf = classification_report(y_test, y_pred, output_dict=True)\n",
    "conf_matrix_rf = confusion_matrix(y_test, y_pred)\n",
    "\n",
    "# Step 7: Calculate the total number of carrier-related and non-carrier-related delays\n",
    "total_carrier_delays = data['carrier_delay'].count()\n",
    "total_non_carrier_delays = data[['weather_delay', 'nas_delay', 'security_delay', 'late_aircraft_delay']].count().sum() - total_carrier_delays\n",
    "\n",
    "# Step 8: Create a contingency table for Chi-Square test\n",
    "contingency_table = [\n",
    "    [total_carrier_delays, total_non_carrier_delays]  # [carrier, non-carrier]\n",
    "]\n",
    "\n",
    "# Step 9: Perform Chi-Square test\n",
    "chi2_stat, p_value_chi2, dof, expected = chi2_contingency(contingency_table)\n",
    "\n",
    "# Step 10: Return results\n",
    "hypothesis_11_results = {\n",
    "    \"Total Carrier-Related Delays\": total_carrier_delays,\n",
    "    \"Total Non-Carrier-Related Delays\": total_non_carrier_delays,\n",
    "    \"Random Forest Classification Report\": classification_report_rf,\n",
    "    \"Confusion Matrix\": conf_matrix_rf.tolist(),\n",
    "    \"Chi-Square Statistic\": chi2_stat,\n",
    "    \"Chi-Square P-Value\": p_value_chi2,\n",
    "    \"Degrees of Freedom\": dof,\n",
    "    \"Expected Frequencies\": expected.tolist()\n",
    "}\n",
    "\n",
    "hypothesis_11_results\n"
   ]
  },
  {
   "cell_type": "code",
   "execution_count": 21,
   "id": "9305e0be-4be7-45da-8313-57a75b7129ca",
   "metadata": {},
   "outputs": [
    {
     "data": {
      "text/plain": [
       "{'Total Carrier-Related Delays': 14058,\n",
       " 'Total Non-Carrier-Related Delays': 38661,\n",
       " 'Chi-Square Statistic': 0.0,\n",
       " 'Chi-Square P-Value': 1.0,\n",
       " 'Degrees of Freedom': 0,\n",
       " 'Expected Frequencies': [[14058.0, 38661.0]]}"
      ]
     },
     "execution_count": 21,
     "metadata": {},
     "output_type": "execute_result"
    }
   ],
   "source": [
    "from scipy.stats import chi2_contingency\n",
    "\n",
    "# **Hypothesis 11**: \"Delays caused by carriers are more frequent than delays caused by other factors.\"\n",
    "\n",
    "# Step 1: Calculate the total number of carrier-related and non-carrier-related delays\n",
    "total_carrier_related_delays = data[data['carrier_delay'] > 0].shape[0]\n",
    "total_weather_related_delays = data[data['weather_delay'] > 0].shape[0]\n",
    "total_nas_related_delays = data[data['nas_delay'] > 0].shape[0]\n",
    "total_security_related_delays = data[data['security_delay'] > 0].shape[0]\n",
    "total_late_aircraft_related_delays = data[data['late_aircraft_delay'] > 0].shape[0]\n",
    "\n",
    "# Calculate the total non-carrier-related delays\n",
    "total_non_carrier_delays = total_weather_related_delays + total_nas_related_delays + total_security_related_delays + total_late_aircraft_related_delays\n",
    "\n",
    "# Step 2: Create a contingency table for Chi-Square test\n",
    "contingency_table = [\n",
    "    [total_carrier_related_delays, total_non_carrier_delays]  # [carrier-related, non-carrier-related]\n",
    "]\n",
    "\n",
    "# Step 3: Perform Chi-Square test\n",
    "chi2_stat, p_value_chi2, dof, expected = chi2_contingency(contingency_table)\n",
    "\n",
    "# Step 4: Return results\n",
    "hypothesis_11_results = {\n",
    "    \"Total Carrier-Related Delays\": total_carrier_related_delays,\n",
    "    \"Total Non-Carrier-Related Delays\": total_non_carrier_delays,\n",
    "    \"Chi-Square Statistic\": chi2_stat,\n",
    "    \"Chi-Square P-Value\": p_value_chi2,\n",
    "    \"Degrees of Freedom\": dof,\n",
    "    \"Expected Frequencies\": expected.tolist()\n",
    "}\n",
    "\n",
    "hypothesis_11_results\n"
   ]
  },
  {
   "cell_type": "markdown",
   "id": "83fc21a9-5662-486a-9a34-6dc6fdacfae6",
   "metadata": {},
   "source": [
    "Frequency of Delays:\n",
    "\n",
    "Carrier-related delays (15,051) are significantly fewer than non-carrier-related delays (45,153).\n",
    "This directly contradicts the hypothesis that carrier-related delays are more frequent.\n",
    "Prediction Model Performance:\n",
    "\n",
    "The Random Forest model achieved an accuracy of 94.26%, with high precision (97.36%) and recall (96.51%) for predicting carrier-related delays.\n",
    "This suggests that the model can effectively distinguish carrier-related delays from other causes.\n",
    "Chi-Square Test Failure:\n",
    "\n",
    "The Chi-Square test could not compute the statistic due to zero degrees of freedom, likely caused by insufficient variability in the data.\n",
    "Decision on Hypothesis:\n",
    "\n",
    "Reject the hypothesis that carrier-related delays are more frequent than non-carrier-related delays.\n",
    "The evidence shows that non-carrier-related delays (e.g., weather, NAS, security, and late aircraft delays) are more frequent than carrier-related delays.\n",
    "The prediction model's strong performance indicates that features like weather_delay, nas_delay, and late_aircraft_delay significantly impact the classification of delay causes"
   ]
  },
  {
   "cell_type": "code",
   "execution_count": 23,
   "id": "982c7488-fe5d-4a31-92db-94cabdf4646c",
   "metadata": {},
   "outputs": [
    {
     "name": "stderr",
     "output_type": "stream",
     "text": [
      "/Users/alok/anaconda3/lib/python3.11/site-packages/scipy/stats/_stats_py.py:4133: DegenerateDataWarning: at least one input has length 0\n",
      "  warnings.warn(stats.DegenerateDataWarning('at least one input '\n"
     ]
    },
    {
     "data": {
      "text/plain": [
       "{'Mean Delays by Month': {'January': 5467.54540654699,\n",
       "  'February': 3002.5358104469574,\n",
       "  'March': 4784.137801608579,\n",
       "  'April': 4313.51779935275,\n",
       "  'May': 6762.207457983193,\n",
       "  'June': 6057.326742976066,\n",
       "  'July': 8294.970540974826,\n",
       "  'August': 5981.1652542372885,\n",
       "  'September': None,\n",
       "  'October': None,\n",
       "  'November': None,\n",
       "  'December': None},\n",
       " 'ANOVA F-Statistic': nan,\n",
       " 'ANOVA P-Value': nan}"
      ]
     },
     "execution_count": 23,
     "metadata": {},
     "output_type": "execute_result"
    }
   ],
   "source": [
    "from scipy.stats import f_oneway\n",
    "\n",
    "# **Hypothesis 12**: \"Delays vary significantly from month to month.\"\n",
    "\n",
    "# Step 1: Group the 'arr_delay' by month and collect delay durations for each month\n",
    "january_delays = data[data['month'] == 1]['arr_delay'].dropna()\n",
    "february_delays = data[data['month'] == 2]['arr_delay'].dropna()\n",
    "march_delays = data[data['month'] == 3]['arr_delay'].dropna()\n",
    "april_delays = data[data['month'] == 4]['arr_delay'].dropna()\n",
    "may_delays = data[data['month'] == 5]['arr_delay'].dropna()\n",
    "june_delays = data[data['month'] == 6]['arr_delay'].dropna()\n",
    "july_delays = data[data['month'] == 7]['arr_delay'].dropna()\n",
    "august_delays = data[data['month'] == 8]['arr_delay'].dropna()\n",
    "september_delays = data[data['month'] == 9]['arr_delay'].dropna()\n",
    "october_delays = data[data['month'] == 10]['arr_delay'].dropna()\n",
    "november_delays = data[data['month'] == 11]['arr_delay'].dropna()\n",
    "december_delays = data[data['month'] == 12]['arr_delay'].dropna()\n",
    "\n",
    "# Step 2: Perform ANOVA to check if delay durations differ significantly across months\n",
    "anova_results = f_oneway(\n",
    "    january_delays, february_delays, march_delays, april_delays, may_delays, \n",
    "    june_delays, july_delays, august_delays, september_delays, october_delays, \n",
    "    november_delays, december_delays\n",
    ")\n",
    "\n",
    "# Extract ANOVA test results\n",
    "f_stat = anova_results.statistic\n",
    "p_value_anova = anova_results.pvalue\n",
    "\n",
    "# Step 3: Calculate mean delay for each month\n",
    "mean_delays_by_month = {\n",
    "    \"January\": january_delays.mean() if len(january_delays) > 0 else None,\n",
    "    \"February\": february_delays.mean() if len(february_delays) > 0 else None,\n",
    "    \"March\": march_delays.mean() if len(march_delays) > 0 else None,\n",
    "    \"April\": april_delays.mean() if len(april_delays) > 0 else None,\n",
    "    \"May\": may_delays.mean() if len(may_delays) > 0 else None,\n",
    "    \"June\": june_delays.mean() if len(june_delays) > 0 else None,\n",
    "    \"July\": july_delays.mean() if len(july_delays) > 0 else None,\n",
    "    \"August\": august_delays.mean() if len(august_delays) > 0 else None,\n",
    "    \"September\": september_delays.mean() if len(september_delays) > 0 else None,\n",
    "    \"October\": october_delays.mean() if len(october_delays) > 0 else None,\n",
    "    \"November\": november_delays.mean() if len(november_delays) > 0 else None,\n",
    "    \"December\": december_delays.mean() if len(december_delays) > 0 else None\n",
    "}\n",
    "\n",
    "# Step 4: Return results\n",
    "hypothesis_12_results = {\n",
    "    \"Mean Delays by Month\": mean_delays_by_month,\n",
    "    \"ANOVA F-Statistic\": f_stat,\n",
    "    \"ANOVA P-Value\": p_value_anova\n",
    "}\n",
    "\n",
    "hypothesis_12_results\n"
   ]
  },
  {
   "cell_type": "markdown",
   "id": "2f4b3e8e-08a0-47b4-a568-fd7e49b02d8d",
   "metadata": {},
   "source": [
    "### **Hypothesis 12 Conclusion**\n",
    "**Hypothesis:**  \n",
    "*\"Delays vary significantly from month to month.\"*\n",
    "\n",
    "---\n",
    "\n",
    "### **Key Results**\n",
    "- **Mean Delay Durations (January to August):**\n",
    "  - **July:** 8294.97 mins (highest)  \n",
    "  - **February:** 3002.53 mins (lowest)  \n",
    "\n",
    "- **ANOVA Test:**\n",
    "  - **F-Statistic:** NaN  \n",
    "  - **P-Value:** NaN  \n",
    "\n",
    "---\n",
    "\n",
    "### **Decision on Hypothesis**\n",
    "Since the **ANOVA test could not be performed** due to missing data for **September, October, November, and December**, we **fail to reject the null hypothesis**.  \n",
    "This means that we do not have sufficient statistical evidence to conclude that **delays vary significantly from month to month**.  \n",
    "\n",
    "---\n",
    "\n",
    "### **Summary**\n",
    "Although the data for **January to August** shows that delays differ across months (with **July** having the highest delays and **February** the lowest), the formal ANOVA test could not be conducted due to missing data for four months. Hence, we **fail to reject the null hypothesis** that **delays do not vary significantly from month to month**. To provide a definitive conclusion, data for **September to December** must be included, and the ANOVA test should be re-run."
   ]
  }
 ],
 "metadata": {
  "kernelspec": {
   "display_name": "Python 3 (ipykernel)",
   "language": "python",
   "name": "python3"
  },
  "language_info": {
   "codemirror_mode": {
    "name": "ipython",
    "version": 3
   },
   "file_extension": ".py",
   "mimetype": "text/x-python",
   "name": "python",
   "nbconvert_exporter": "python",
   "pygments_lexer": "ipython3",
   "version": "3.11.5"
  }
 },
 "nbformat": 4,
 "nbformat_minor": 5
}
